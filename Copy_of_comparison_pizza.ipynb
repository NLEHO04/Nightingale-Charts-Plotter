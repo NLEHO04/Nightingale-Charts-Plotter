{
  "nbformat": 4,
  "nbformat_minor": 0,
  "metadata": {
    "colab": {
      "name": "Copy of comparison_pizza.ipynb",
      "provenance": [],
      "collapsed_sections": [],
      "include_colab_link": true
    },
    "kernelspec": {
      "name": "python3",
      "display_name": "Python 3"
    },
    "language_info": {
      "name": "python"
    }
  },
  "cells": [
    {
      "cell_type": "markdown",
      "metadata": {
        "id": "view-in-github",
        "colab_type": "text"
      },
      "source": [
        "<a href=\"https://colab.research.google.com/github/NLEHO04/Nightingale-Charts-Plotter/blob/main/Copy_of_comparison_pizza.ipynb\" target=\"_parent\"><img src=\"https://colab.research.google.com/assets/colab-badge.svg\" alt=\"Open In Colab\"/></a>"
      ]
    },
    {
      "cell_type": "code",
      "source": [
        "!pip install mplsoccer"
      ],
      "metadata": {
        "colab": {
          "base_uri": "https://localhost:8080/"
        },
        "id": "ZsUUfS4-cQQF",
        "outputId": "66cea5ad-fc29-4115-ea13-b3067f90bc7b"
      },
      "execution_count": null,
      "outputs": [
        {
          "output_type": "stream",
          "name": "stdout",
          "text": [
            "Requirement already satisfied: mplsoccer in /usr/local/lib/python3.7/dist-packages (1.0.5)\n",
            "Requirement already satisfied: numpy in /usr/local/lib/python3.7/dist-packages (from mplsoccer) (1.21.5)\n",
            "Requirement already satisfied: matplotlib in /usr/local/lib/python3.7/dist-packages (from mplsoccer) (3.2.2)\n",
            "Requirement already satisfied: beautifulsoup4 in /usr/local/lib/python3.7/dist-packages (from mplsoccer) (4.6.3)\n",
            "Requirement already satisfied: seaborn in /usr/local/lib/python3.7/dist-packages (from mplsoccer) (0.11.2)\n",
            "Requirement already satisfied: pandas in /usr/local/lib/python3.7/dist-packages (from mplsoccer) (1.3.5)\n",
            "Requirement already satisfied: scipy in /usr/local/lib/python3.7/dist-packages (from mplsoccer) (1.4.1)\n",
            "Requirement already satisfied: pillow in /usr/local/lib/python3.7/dist-packages (from mplsoccer) (7.1.2)\n",
            "Requirement already satisfied: python-dateutil>=2.1 in /usr/local/lib/python3.7/dist-packages (from matplotlib->mplsoccer) (2.8.2)\n",
            "Requirement already satisfied: kiwisolver>=1.0.1 in /usr/local/lib/python3.7/dist-packages (from matplotlib->mplsoccer) (1.3.2)\n",
            "Requirement already satisfied: pyparsing!=2.0.4,!=2.1.2,!=2.1.6,>=2.0.1 in /usr/local/lib/python3.7/dist-packages (from matplotlib->mplsoccer) (3.0.7)\n",
            "Requirement already satisfied: cycler>=0.10 in /usr/local/lib/python3.7/dist-packages (from matplotlib->mplsoccer) (0.11.0)\n",
            "Requirement already satisfied: six>=1.5 in /usr/local/lib/python3.7/dist-packages (from python-dateutil>=2.1->matplotlib->mplsoccer) (1.15.0)\n",
            "Requirement already satisfied: pytz>=2017.3 in /usr/local/lib/python3.7/dist-packages (from pandas->mplsoccer) (2018.9)\n"
          ]
        }
      ]
    },
    {
      "cell_type": "code",
      "source": [
        "!pip install highlight-text"
      ],
      "metadata": {
        "colab": {
          "base_uri": "https://localhost:8080/"
        },
        "id": "3r57WDcjcbYc",
        "outputId": "92a4bf0c-dca8-4870-bbd8-79d2c880e993"
      },
      "execution_count": null,
      "outputs": [
        {
          "output_type": "stream",
          "name": "stdout",
          "text": [
            "Requirement already satisfied: highlight-text in /usr/local/lib/python3.7/dist-packages (0.2)\n"
          ]
        }
      ]
    },
    {
      "cell_type": "code",
      "execution_count": null,
      "metadata": {
        "id": "04P5ss_2cKKn"
      },
      "outputs": [],
      "source": [
        "import matplotlib.pyplot as plt\n",
        "from highlight_text import fig_text\n",
        "\n",
        "from mplsoccer import PyPizza, FontManager"
      ]
    },
    {
      "cell_type": "code",
      "source": [
        "font_normal = FontManager((\"https://github.com/google/fonts/blob/main/apache/roboto/static/\"\n",
        "                           \"Roboto-Regular.ttf?raw=true\"))\n",
        "font_italic = FontManager((\"https://github.com/google/fonts/blob/main/apache/roboto/static/\"\n",
        "                           \"Roboto-Italic.ttf?raw=true\"))\n",
        "font_bold = FontManager((\"https://github.com/google/fonts/blob/main/apache/roboto/static/\"\n",
        "                         \"Roboto-Medium.ttf?raw=true\"))"
      ],
      "metadata": {
        "id": "wvgnalmAcr57"
      },
      "execution_count": null,
      "outputs": []
    },
    {
      "cell_type": "markdown",
      "source": [
        "## YOUR INPUT GOES HERE"
      ],
      "metadata": {
        "id": "9x6YOZXyipby"
      }
    },
    {
      "cell_type": "code",
      "source": [
        "# parameter and values list\n",
        "# The values are taken from the excellent fbref website (supplied by StatsBomb)\n",
        "params = [\n",
        "    \"Non-Penalty Goals\", \"npxG\", \"npxG + xa\", \"xA\",\n",
        "    \"Open Play\\nShot Creating Actions\", \"Key Passes\",\n",
        "    \"Progressive Passes\", \"Progressive Carries\", \"Successful Dribble %\",\n",
        "    \"Carries into Final Third\", \"Successful Pressure %\", \"Pass Completion %\"\n",
        "]\n",
        "values = [79, 76, 89, 95, 96, 95, 86, 74, 80, 85, 90, 53]    # for  Florian Wirtz\n",
        "values_2 = [61, 77, 85, 88, 71, 81, 81, 79, 64, 92, 60, 68]  # for Mason Mount\n",
        "\n",
        "background_color = \"#222222\"\n",
        "\n",
        "# instantiate PyPizza class\n",
        "baker = PyPizza(\n",
        "    params=params,                  # list of parameters\n",
        "    background_color=background_color,     # background color\n",
        "    straight_line_color=\"#FFFFFF\",  # color for straight lines\n",
        "    straight_line_lw=1,             # linewidth for straight lines\n",
        "    last_circle_lw=1,               # linewidth of last circle\n",
        "    last_circle_color=\"#FFFFFF\",    # color of last circle\n",
        "    other_circle_ls=\"-.\",           # linestyle for other circles\n",
        "    other_circle_lw=1               # linewidth for other circles\n",
        ")\n",
        "\n",
        "main_title = \"<Florian Wirtz> vs <Mason Mount>\"\n",
        "title_1_color = '#F50A0A'\n",
        "title_2_color = '#1A78CF'\n",
        "subtitle = \"<Percentile Rank vs Top-Five League Attacking Midfielders | Last 365 Days>\"\n",
        "\n",
        "# add credits\n",
        "CREDIT_1 = \"data: statsbomb viz fbref\"\n",
        "CREDIT_2 = \"inspired by: @Worville, @FootballSlices, @somazerofc & @Soumyaj15209314\""
      ],
      "metadata": {
        "id": "t0hDtvENh9ME"
      },
      "execution_count": null,
      "outputs": []
    },
    {
      "cell_type": "code",
      "source": [
        "# plot pizza\n",
        "fig, ax = baker.make_pizza(\n",
        "    values,                     # list of values\n",
        "    compare_values=values_2,    # comparison values\n",
        "    figsize=(12, 16),             # adjust figsize according to your need\n",
        "    kwargs_slices=dict(\n",
        "        facecolor=\"#F50A0A\", edgecolor=\"#FFFFFF\",\n",
        "        zorder=2, linewidth=1\n",
        "    ),                          # values to be used when plotting slices\n",
        "    kwargs_compare=dict(\n",
        "        facecolor=\"#1A78CF\", edgecolor=\"#FFFFFF\",\n",
        "        zorder=2, linewidth=1,\n",
        "    ),\n",
        "    kwargs_params=dict(\n",
        "        color=\"#FFFFFF\", fontsize=15,\n",
        "        fontproperties=font_normal.prop, va=\"center\"\n",
        "    ),                          # values to be used when adding parameter\n",
        "    kwargs_values=dict(\n",
        "        color=\"#FFFFFF\", fontsize=12,\n",
        "        fontproperties=font_normal.prop, zorder=3,\n",
        "        bbox=dict(\n",
        "            edgecolor=\"#FFFFFF\", facecolor=\"red\",\n",
        "            boxstyle=\"round,pad=0.2\", lw=1\n",
        "        )\n",
        "    ),                          # values to be used when adding parameter-values labels\n",
        "    kwargs_compare_values=dict(\n",
        "        color=\"#FFFFFF\", fontsize=12, fontproperties=font_normal.prop, zorder=3,\n",
        "        bbox=dict(edgecolor=\"#FFFFFF\", facecolor=\"#1A78CF\", boxstyle=\"round,pad=0.2\", lw=1)\n",
        "    ),                          # values to be used when adding parameter-values labels\n",
        ")\n",
        "\n",
        "# add title\n",
        "fig_text(\n",
        "    0.515, 0.858, main_title, size=22, fig=fig,\n",
        "    highlight_textprops=[{\"color\": title_1_color}, {\"color\": title_2_color}],\n",
        "    ha=\"center\", fontproperties=font_bold.prop, color=\"#FFFFFF\"\n",
        ")\n",
        "\n",
        "# add subtitle\n",
        "fig_text(\n",
        "    0.515, 0.84,\n",
        "    subtitle,\n",
        "    fontsize=14, highlight_textprops=[{\"color\": '#FFFFFF'}], fig=fig,\n",
        "    ha=\"center\", fontproperties=font_bold.prop, color=\"#FFFFFF\"\n",
        ")\n",
        "\n",
        "# add title - invisible (to fix the error)\n",
        "fig.text(\n",
        "    0.515, 0.85, main_title, size=17,\n",
        "    ha=\"center\", fontproperties=font_bold.prop, color=\"#222222\", alpha=0\n",
        ")\n",
        "\n",
        "fig.text(\n",
        "    0.935, 0.15, f\"{CREDIT_1}\\n{CREDIT_2}\", size=9,\n",
        "    fontproperties=font_italic.prop, color=\"#FFFFFF\",\n",
        "    ha=\"right\"\n",
        ")\n",
        "\n",
        "fig.savefig(\"saved_plot.jpg\", dpi=400, bbox_inches=\"tight\", facecolor=background_color)\n",
        "\n",
        "plt.show()"
      ],
      "metadata": {
        "colab": {
          "base_uri": "https://localhost:8080/",
          "height": 236
        },
        "id": "JUct8dWtctKQ",
        "outputId": "b7f890d7-255d-4966-9c3e-7279bb5f795b"
      },
      "execution_count": null,
      "outputs": [
        {
          "output_type": "error",
          "ename": "NameError",
          "evalue": "ignored",
          "traceback": [
            "\u001b[0;31m---------------------------------------------------------------------------\u001b[0m",
            "\u001b[0;31mNameError\u001b[0m                                 Traceback (most recent call last)",
            "\u001b[0;32m<ipython-input-27-83ef0415923f>\u001b[0m in \u001b[0;36m<module>\u001b[0;34m()\u001b[0m\n\u001b[1;32m      1\u001b[0m \u001b[0;31m# plot pizza\u001b[0m\u001b[0;34m\u001b[0m\u001b[0;34m\u001b[0m\u001b[0;34m\u001b[0m\u001b[0m\n\u001b[0;32m----> 2\u001b[0;31m fig, ax = baker.make_pizza(\n\u001b[0m\u001b[1;32m      3\u001b[0m     \u001b[0mvalues\u001b[0m\u001b[0;34m,\u001b[0m                     \u001b[0;31m# list of values\u001b[0m\u001b[0;34m\u001b[0m\u001b[0;34m\u001b[0m\u001b[0m\n\u001b[1;32m      4\u001b[0m     \u001b[0mcompare_values\u001b[0m\u001b[0;34m=\u001b[0m\u001b[0mvalues_2\u001b[0m\u001b[0;34m,\u001b[0m    \u001b[0;31m# comparison values\u001b[0m\u001b[0;34m\u001b[0m\u001b[0;34m\u001b[0m\u001b[0m\n\u001b[1;32m      5\u001b[0m     \u001b[0mfigsize\u001b[0m\u001b[0;34m=\u001b[0m\u001b[0;34m(\u001b[0m\u001b[0;36m12\u001b[0m\u001b[0;34m,\u001b[0m \u001b[0;36m16\u001b[0m\u001b[0;34m)\u001b[0m\u001b[0;34m,\u001b[0m             \u001b[0;31m# adjust figsize according to your need\u001b[0m\u001b[0;34m\u001b[0m\u001b[0;34m\u001b[0m\u001b[0m\n",
            "\u001b[0;31mNameError\u001b[0m: name 'baker' is not defined"
          ]
        }
      ]
    }
  ]
}